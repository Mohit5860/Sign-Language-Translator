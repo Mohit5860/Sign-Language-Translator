{
 "cells": [
  {
   "cell_type": "code",
   "execution_count": 1,
   "metadata": {},
   "outputs": [
    {
     "name": "stderr",
     "output_type": "stream",
     "text": [
      "2024-08-24 21:14:18.446245: I tensorflow/core/util/port.cc:113] oneDNN custom operations are on. You may see slightly different numerical results due to floating-point round-off errors from different computation orders. To turn them off, set the environment variable `TF_ENABLE_ONEDNN_OPTS=0`.\n",
      "2024-08-24 21:14:18.448577: I external/local_tsl/tsl/cuda/cudart_stub.cc:32] Could not find cuda drivers on your machine, GPU will not be used.\n",
      "2024-08-24 21:14:18.582741: I external/local_tsl/tsl/cuda/cudart_stub.cc:32] Could not find cuda drivers on your machine, GPU will not be used.\n",
      "2024-08-24 21:14:19.053181: I tensorflow/core/platform/cpu_feature_guard.cc:210] This TensorFlow binary is optimized to use available CPU instructions in performance-critical operations.\n",
      "To enable the following instructions: AVX2 AVX_VNNI FMA, in other operations, rebuild TensorFlow with the appropriate compiler flags.\n",
      "2024-08-24 21:14:20.189308: W tensorflow/compiler/tf2tensorrt/utils/py_utils.cc:38] TF-TRT Warning: Could not find TensorRT\n"
     ]
    }
   ],
   "source": [
    "import cv2\n",
    "import os\n",
    "import json\n",
    "import numpy as np\n",
    "import mediapipe as mp\n",
    "from keras.utils import to_categorical"
   ]
  },
  {
   "cell_type": "code",
   "execution_count": 2,
   "metadata": {},
   "outputs": [],
   "source": [
    "path = \"./archive\""
   ]
  },
  {
   "cell_type": "code",
   "execution_count": 3,
   "metadata": {},
   "outputs": [],
   "source": [
    "def extract_data (json_list):\n",
    "    data = []\n",
    "    path = \"./archive/videos/\"\n",
    "    for j in json_list:\n",
    "        for ins in j[\"instances\"] :\n",
    "            video_id = ins[\"video_id\"]\n",
    "            video_path = f'{path}{video_id}.mp4'\n",
    "            if os.path.exists(video_path) :\n",
    "                data.append({\"video_id\" : video_id, \"label\" : j[\"gloss\"]})\n",
    "        if len(data) == 200 :\n",
    "            return data"
   ]
  },
  {
   "cell_type": "code",
   "execution_count": 4,
   "metadata": {},
   "outputs": [],
   "source": [
    "def extract_label (json_list) :\n",
    "    labels = []\n",
    "    for j in json_list:\n",
    "        labels.append(j[\"gloss\"])\n",
    "    return labels"
   ]
  },
  {
   "cell_type": "code",
   "execution_count": 5,
   "metadata": {},
   "outputs": [],
   "source": [
    "with open('WLASL_v0.3.json', 'r') as data_file:\n",
    "    json_data = data_file.read()\n",
    "\n",
    "json_list = json.loads(json_data)\n",
    "data = extract_data(json_list)\n",
    "labels = extract_label(json_list)"
   ]
  },
  {
   "cell_type": "code",
   "execution_count": 12,
   "metadata": {},
   "outputs": [],
   "source": [
    "label_dict = dict()\n",
    "label_rev = dict()\n",
    "for l in range(len(labels)) :\n",
    "    label_dict[labels[l]] = l\n",
    "    label_rev[l] = labels[l]"
   ]
  },
  {
   "cell_type": "code",
   "execution_count": null,
   "metadata": {},
   "outputs": [],
   "source": [
    "def extract_landmarks(data,target_frames = 50):\n",
    "    x_data = []\n",
    "    y_data = []\n",
    "    count = 0\n",
    "    mp_holistic = mp.solutions.holistic\n",
    "    holistic = mp_holistic.Holistic(static_image_mode=False, min_detection_confidence=0.5, min_tracking_confidence=0.5)\n",
    "\n",
    "    for d in data:\n",
    "\n",
    "        path = f'./videos/{d[\"video_id\"]}.mp4'\n",
    "        cap = cv2.VideoCapture(path)\n",
    "        frames_count = int(cap.get(cv2.CAP_PROP_FRAME_COUNT))\n",
    "        skip_frames = max(int(frames_count/target_frames), 1)\n",
    "\n",
    "        for i in range(target_frames):\n",
    "          cap.set(cv2.CAP_PROP_POS_FRAMES, i * skip_frames)\n",
    "          success, frame = cap.read()\n",
    "\n",
    "          if not success:\n",
    "              break\n",
    "          rgb_frame = cv2.cvtColor(frame, cv2.COLOR_BGR2RGB)\n",
    "          results = holistic.process(rgb_frame)\n",
    "          frame_landmarks = []\n",
    "\n",
    "          if (results.left_hand_landmarks or results.right_hand_landmarks) and results.pose_landmarks:\n",
    "              for landmark in results.pose_landmarks.landmark:\n",
    "                frame_landmarks.extend([landmark.x, landmark.y, landmark.z])\n",
    "              if results.left_hand_landmarks:\n",
    "                for landmark in results.left_hand_landmarks.landmark:\n",
    "                  frame_landmarks.extend([landmark.x, landmark.y, landmark.z])\n",
    "              else :\n",
    "                frame_landmarks.extend([0,0,0]*21)\n",
    "              if results.right_hand_landmarks :\n",
    "                for landmark in results.right_hand_landmarks.landmark:\n",
    "                    frame_landmarks.extend([landmark.x, landmark.y, landmark.z])\n",
    "              else :\n",
    "                frame_landmarks.extend([0,0,0]* 21)\n",
    "\n",
    "              if len(frame_landmarks) > 0:\n",
    "                x_data.append(frame_landmarks)\n",
    "                y_data.append(d[\"label\"])\n",
    "\n",
    "        cap.release()\n",
    "        count += 1\n",
    "        print(f\"Processed {count}/{len(data)} videos.\")\n",
    "    holistic.close()\n",
    "    x_data = np.array(x_data)\n",
    "    y_data = np.array(y_data)\n",
    "    np.save(\"./data/x_data.npy\", x_data)\n",
    "    np.save(\"./data/y_data.npy\", y_data)"
   ]
  },
  {
   "cell_type": "code",
   "execution_count": null,
   "metadata": {},
   "outputs": [],
   "source": [
    "extract_landmarks(data)"
   ]
  },
  {
   "cell_type": "code",
   "execution_count": 2,
   "metadata": {},
   "outputs": [],
   "source": [
    "y_data = np.load(\"./data/y_data.npy\")\n",
    "labels = y_data.to_list"
   ]
  },
  {
   "cell_type": "code",
   "execution_count": 22,
   "metadata": {},
   "outputs": [],
   "source": [
    "for i in range(len(labels)):\n",
    "    labels[i] = label_dict[labels[i]]"
   ]
  },
  {
   "cell_type": "code",
   "execution_count": 24,
   "metadata": {},
   "outputs": [],
   "source": [
    "y_data = np.array(labels)\n",
    "y_data = y_data.reshape(40458,1)\n",
    "y_data = to_categorical(y_data)"
   ]
  },
  {
   "cell_type": "code",
   "execution_count": 3,
   "metadata": {},
   "outputs": [],
   "source": []
  }
 ],
 "metadata": {
  "kernelspec": {
   "display_name": "signLanguage",
   "language": "python",
   "name": "python3"
  },
  "language_info": {
   "codemirror_mode": {
    "name": "ipython",
    "version": 3
   },
   "file_extension": ".py",
   "mimetype": "text/x-python",
   "name": "python",
   "nbconvert_exporter": "python",
   "pygments_lexer": "ipython3",
   "version": "3.10.14"
  }
 },
 "nbformat": 4,
 "nbformat_minor": 2
}
